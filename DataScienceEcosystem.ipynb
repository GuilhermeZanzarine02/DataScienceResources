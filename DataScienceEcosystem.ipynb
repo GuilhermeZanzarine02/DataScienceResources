{
 "cells": [
  {
   "cell_type": "markdown",
   "id": "38adfbaf-4052-4caf-b8f3-09d169ed511e",
   "metadata": {},
   "source": [
    "# Data Science Tools and Ecosystem"
   ]
  },
  {
   "cell_type": "markdown",
   "id": "e8224cc5-eb45-4adb-9f81-520fb11de3fe",
   "metadata": {},
   "source": [
    "In this notebook, we will summarize Data Science Tools and Ecosystem. In addition, we will provide examples of these environments and tools.\n",
    "Feel free to explore this notebook!"
   ]
  },
  {
   "cell_type": "markdown",
   "id": "38235954-5fa1-4256-8009-2b3331579d53",
   "metadata": {},
   "source": [
    " __Objectives__:\n",
    "\n",
    "* List popular languages for Data Science.\n",
    "* List the most commonly used libraries by Data Scientists.\n",
    "* List the most used Data Science Tools.\n",
    "* Create some mathematical expressions in Python.\n"
   ]
  },
  {
   "cell_type": "markdown",
   "id": "72a1d9ce-9140-4a3f-b11b-e39eda6944c4",
   "metadata": {},
   "source": [
    "In the list below, the most popular languages used by Data Scientists are listed:\n",
    "\n",
    "1. Python\n",
    "2. R\n",
    "3. SQL\n",
    "4. Julia\n",
    "5. Java"
   ]
  },
  {
   "cell_type": "markdown",
   "id": "9d0386ed-c2d2-4ed7-ad8f-f77410d8518e",
   "metadata": {},
   "source": [
    "In the list below, there are commonly used libraries by Data Scientists:\n",
    "\n",
    "1. Pandas\n",
    "2. Numpy\n",
    "3. Matplotlib\n",
    "4. Seaborn\n",
    "5. TensorFlow\n"
   ]
  },
  {
   "cell_type": "markdown",
   "id": "886005dc-39b1-40f8-91e3-fb70504cca67",
   "metadata": {},
   "source": [
    "\n",
    "\n",
    "| Data Science Tools |\n",
    "| ----------------- |\n",
    "| Jupyter Notebook   |\n",
    "| RStudio            |\n",
    "| VS Code + Python   |\n",
    "| Spyder             |\n"
   ]
  },
  {
   "cell_type": "markdown",
   "id": "6a0dcbaf-2060-4318-9c78-982b2b9fd4a8",
   "metadata": {},
   "source": [
    "### Below are some examples of evaluating arithmetic expressions in Python:"
   ]
  },
  {
   "cell_type": "code",
   "execution_count": 4,
   "id": "efe62599-9fd3-4aea-a6db-6afced804753",
   "metadata": {},
   "outputs": [
    {
     "data": {
      "text/plain": [
       "17"
      ]
     },
     "execution_count": 4,
     "metadata": {},
     "output_type": "execute_result"
    }
   ],
   "source": [
    "# This is a simple expression to multiply then add integers\n",
    "\n",
    "(3*4)+5"
   ]
  },
  {
   "cell_type": "code",
   "execution_count": 2,
   "id": "bad5f5b3-9ed7-4dfe-8c47-7dfaa3acf776",
   "metadata": {},
   "outputs": [
    {
     "name": "stdout",
     "output_type": "stream",
     "text": [
      "3.3333333333333335\n"
     ]
    }
   ],
   "source": [
    "# This will convert 200 minutes to hours by diving by 60\n",
    "\n",
    "minutes = 200\n",
    "hour = 60\n",
    "resp =  minutes / hour\n",
    "print(resp)"
   ]
  },
  {
   "cell_type": "markdown",
   "id": "37318f96-6ed4-45ce-b471-68fd758117a9",
   "metadata": {},
   "source": [
    "## Author \n",
    "Guilherme Zanzarine"
   ]
  },
  {
   "cell_type": "code",
   "execution_count": null,
   "id": "589288df-3e80-428a-addb-fda7220d1b90",
   "metadata": {},
   "outputs": [],
   "source": []
  }
 ],
 "metadata": {
  "kernelspec": {
   "display_name": "Python 3 (ipykernel)",
   "language": "python",
   "name": "python3"
  },
  "language_info": {
   "codemirror_mode": {
    "name": "ipython",
    "version": 3
   },
   "file_extension": ".py",
   "mimetype": "text/x-python",
   "name": "python",
   "nbconvert_exporter": "python",
   "pygments_lexer": "ipython3",
   "version": "3.11.7"
  }
 },
 "nbformat": 4,
 "nbformat_minor": 5
}
